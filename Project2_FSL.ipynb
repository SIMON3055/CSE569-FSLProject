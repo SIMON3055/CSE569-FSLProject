{
  "nbformat": 4,
  "nbformat_minor": 0,
  "metadata": {
    "colab": {
      "provenance": [],
      "collapsed_sections": []
    },
    "kernelspec": {
      "name": "python3",
      "display_name": "Python 3"
    },
    "language_info": {
      "name": "python"
    }
  },
  "cells": [
    {
      "cell_type": "markdown",
      "source": [
        "**Installing and importing required packages**"
      ],
      "metadata": {
        "id": "nvlegs_fDg96"
      }
    },
    {
      "cell_type": "code",
      "execution_count": 1,
      "metadata": {
        "id": "Kz9BewNirWyU"
      },
      "outputs": [],
      "source": [
        "#!pip install -U libsvm-official\n",
        "from libsvm.svmutil import *\n",
        "import numpy as np\n",
        "import scipy.io"
      ]
    },
    {
      "cell_type": "markdown",
      "source": [
        "**Reading input parameters**"
      ],
      "metadata": {
        "id": "p-K4kLG5sTWy"
      }
    },
    {
      "cell_type": "code",
      "source": [
        "train_data = scipy.io.loadmat('/content/trainData.mat') \n",
        "test_data = scipy.io.loadmat('/content/testData.mat')"
      ],
      "metadata": {
        "id": "1mpX7RBar75c"
      },
      "execution_count": 2,
      "outputs": []
    },
    {
      "cell_type": "markdown",
      "source": [
        "**Extracting features from dataset**"
      ],
      "metadata": {
        "id": "dMIQ5Z0vsYKb"
      }
    },
    {
      "cell_type": "code",
      "source": [
        "x1_train = train_data['X1']\n",
        "x2_train = train_data['X2']\n",
        "x3_train = train_data['X3']\n",
        "y_train = train_data['Y'].flatten()\n",
        "\n",
        "x1_test = test_data['X1']\n",
        "x2_test = test_data['X2']\n",
        "x3_test = test_data['X3']\n",
        "y_test = test_data['Y'].flatten()"
      ],
      "metadata": {
        "id": "_at1OO2Ssgjl"
      },
      "execution_count": 3,
      "outputs": []
    },
    {
      "cell_type": "markdown",
      "source": [
        "**Step 0 - Classification by individual features.**"
      ],
      "metadata": {
        "id": "pYqPC_A4_61N"
      }
    },
    {
      "cell_type": "markdown",
      "source": [
        "**Part1**"
      ],
      "metadata": {
        "id": "gIXRYIIWs7m9"
      }
    },
    {
      "cell_type": "code",
      "source": [
        "x1_Step0_Part1 = svm_problem(y_train, x1_train)\n",
        "x2_Step0_Part1 = svm_problem(y_train, x2_train)\n",
        "x3_Step0_Part1 = svm_problem(y_train, x3_train)\n",
        "\n",
        "#Creating the tarin model hk for each Xk\n",
        "def train_model(problem, parameters):\n",
        "    print(f\"Training Started.\")\n",
        "    model = svm_train(problem, parameters)\n",
        "    print(f\"Training Completed.\")\n",
        "    print(f\"*****************************************************\")\n",
        "    return model\n",
        "\n",
        "parameters = svm_parameter(\"-c 10 -t 0 -q\") \n",
        "# Naming convention of model: model{k}_Step{Step}_{Sub Problem if any}\n",
        "model1_Step0_Part1 = train_model(x1_Step0_Part1, parameters)\n",
        "model2_Step0_Part1 = train_model(x2_Step0_Part1, parameters)\n",
        "model3_Step0_Part1 = train_model(x3_Step0_Part1, parameters)\n",
        "\n",
        "# Performing predictions on the test dataset for the above created models.\n",
        "m1_label_Step0_Part1, m1_accuracy_Step0_Part1, m1_val_Step0_Part1 = svm_predict(y_test, x1_test, model1_Step0_Part1)\n",
        "m2_label_Step0_Part1, m2_accuracy_Step0_Part1, m2_val_Step0_Part1 = svm_predict(y_test, x2_test, model2_Step0_Part1)\n",
        "m3_label_Step0_Part1, m3_accuracy_Step0_Part1, m3_val_Step0_Part1 = svm_predict(y_test, x3_test, model3_Step0_Part1)\n",
        "\n",
        "# Printing the accuracies for each model by rounding off to 2 digits\n",
        "print(f\"========================Printing the accuracies for Step 0 - Part1========================\")\n",
        "print(f\"Accuracy for X1 Dataset: {m1_accuracy_Step0_Part1[0]: .2f}%.\")\n",
        "print(f\"Accuracy for X2 Dataset: {m2_accuracy_Step0_Part1[0]: .2f}%.\")\n",
        "print(f\"Accuracy for X3 Dataset: {m3_accuracy_Step0_Part1[0]: .2f}%.\\n\")"
      ],
      "metadata": {
        "colab": {
          "base_uri": "https://localhost:8080/"
        },
        "id": "gN1wef8ytAu2",
        "outputId": "29006ef7-ffdf-4b68-b3a8-fa15c9d35f09"
      },
      "execution_count": 4,
      "outputs": [
        {
          "output_type": "stream",
          "name": "stdout",
          "text": [
            "Training Started.\n",
            "Training Completed.\n",
            "*****************************************************\n",
            "Training Started.\n",
            "Training Completed.\n",
            "*****************************************************\n",
            "Training Started.\n",
            "Training Completed.\n",
            "*****************************************************\n",
            "Accuracy = 10.7807% (203/1883) (classification)\n",
            "Accuracy = 16.6755% (314/1883) (classification)\n",
            "Accuracy = 8.92193% (168/1883) (classification)\n",
            "========================Printing the accuracies for Step 0 - Part1========================\n",
            "Accuracy for X1 Dataset:  10.78%.\n",
            "Accuracy for X2 Dataset:  16.68%.\n",
            "Accuracy for X3 Dataset:  8.92%.\n",
            "\n"
          ]
        }
      ]
    },
    {
      "cell_type": "markdown",
      "source": [
        "**Part2**"
      ],
      "metadata": {
        "id": "yDV4AUSp1l-1"
      }
    },
    {
      "cell_type": "code",
      "source": [
        "#Here we are modifying the parameters from part1 to return the probabilities\n",
        "parameters = svm_parameter(\"-c 10 -t 0 -b 1 -q\") \n",
        "\n",
        "#Here We can using the same problem that we created in the part1 to define our models.\n",
        "model1_Step0_Part2 = train_model(x1_Step0_Part1, parameters)\n",
        "model2_Step0_Part2 = train_model(x2_Step0_Part1, parameters)\n",
        "model3_Step0_Part2 = train_model(x3_Step0_Part1, parameters)\n",
        "\n",
        "# Performing predictions on the test dataset for the above created models.\n",
        "m1_label_Step0_Part2, m1_accuracy_Step0_Part2, m1_val_Step0_Part2 = svm_predict(y_test, x1_test, model1_Step0_Part2,\"-b 1\")\n",
        "m2_label_Step0_Part2, m2_accuracy_Step0_Part2, m2_val_Step0_Part2 = svm_predict(y_test, x2_test, model2_Step0_Part2,\"-b 1\")\n",
        "m3_label_Step0_Part2, m3_accuracy_Step0_Part2, m3_val_Step0_Part2 = svm_predict(y_test, x3_test, model3_Step0_Part2,\"-b 1\")\n",
        "\n",
        "# Printing the accuracies for each model\n",
        "print(f\"**********************************Printing the accuracies for Step 0 - Part2**********************************\")\n",
        "print(f\"Accuracy for X1 Dataset: {m1_accuracy_Step0_Part2[0]: .2f}%.\")\n",
        "print(f\"Accuracy for X2 Dataset: {m2_accuracy_Step0_Part2[0]: .2f}%.\")\n",
        "print(f\"Accuracy for X3 Dataset: {m3_accuracy_Step0_Part2[0]: .2f}%.\\n\")"
      ],
      "metadata": {
        "colab": {
          "base_uri": "https://localhost:8080/"
        },
        "id": "PVXcA-_G1f1A",
        "outputId": "478a9f2d-28dd-45bd-d800-b521ddaa91f3"
      },
      "execution_count": 5,
      "outputs": [
        {
          "output_type": "stream",
          "name": "stdout",
          "text": [
            "Training Started.\n",
            "Training Completed.\n",
            "*****************************************************\n",
            "Training Started.\n",
            "Training Completed.\n",
            "*****************************************************\n",
            "Training Started.\n",
            "Training Completed.\n",
            "*****************************************************\n",
            "Accuracy = 27.881% (525/1883) (classification)\n",
            "Accuracy = 27.5093% (518/1883) (classification)\n",
            "Accuracy = 28.7839% (542/1883) (classification)\n",
            "**********************************Printing the accuracies for Step 0 - Part2**********************************\n",
            "Accuracy for X1 Dataset:  27.88%.\n",
            "Accuracy for X2 Dataset:  27.51%.\n",
            "Accuracy for X3 Dataset:  28.78%.\n",
            "\n"
          ]
        }
      ]
    },
    {
      "cell_type": "markdown",
      "source": [
        "**Step 1 - Feature combination by fusion of classifiers**"
      ],
      "metadata": {
        "id": "yhA-SgcZ6JKD"
      }
    },
    {
      "cell_type": "code",
      "source": [
        "sample_prob = []\n",
        "sample_label = []\n",
        "for prob_x1, prob_x2, prob_x3 in zip(m1_val_Step0_Part2, m2_val_Step0_Part2, m3_val_Step0_Part2):\n",
        "    mean = np.array(prob_x1) + np.array(prob_x2) + np.array(prob_x3)\n",
        "    mean = mean / 3.0\n",
        "    sample_prob.append(list(mean))\n",
        "    sample_label.append(np.where(mean == max(mean))[0][0] + 1)\n",
        "\n",
        "correct = (np.array(y_test) == np.array(sample_label))\n",
        "accuracy = correct.sum() / correct.size\n",
        "print(f\"**********************************Printing the accuracies for Step 1**********************************\")\n",
        "print(f\"Accuracy for fusion of classifiers: {accuracy * 100:.2f}%\")\n",
        "\n",
        "print(f\"**********************************Printing the accuracies for Step 0 Part 2**********************************\")\n",
        "print(f\"Accuracy for X1 of Step0 Part2: {m1_accuracy_Step0_Part2[0]:.2f}%.\")\n",
        "print(f\"Accuracy for X2 of Step0 Part2: {m2_accuracy_Step0_Part2[0]:.2f}%.\")\n",
        "print(f\"Accuracy for X3 of Step0 Part2: {m3_accuracy_Step0_Part2[0]:.2f}%.\")"
      ],
      "metadata": {
        "colab": {
          "base_uri": "https://localhost:8080/"
        },
        "id": "8Enr10un6MTQ",
        "outputId": "3b9ee9e0-62d9-43c1-c9bd-1b6fa36517d4"
      },
      "execution_count": 8,
      "outputs": [
        {
          "output_type": "stream",
          "name": "stdout",
          "text": [
            "**********************************Printing the accuracies for Step 1**********************************\n",
            "Accuracy for fusion of classifiers: 44.72%\n",
            "**********************************Printing the accuracies for Step 0 Part 2**********************************\n",
            "Accuracy for X1 of Step0 Part2: 27.88%.\n",
            "Accuracy for X2 of Step0 Part2: 27.51%.\n",
            "Accuracy for X3 of Step0 Part2: 28.78%.\n"
          ]
        }
      ]
    },
    {
      "cell_type": "markdown",
      "source": [
        "**Step 2 - Feature combination by simple concatenation**"
      ],
      "metadata": {
        "id": "JHGPklON88ab"
      }
    },
    {
      "cell_type": "code",
      "source": [
        "\n",
        "# concatening all the feature dataset into one\n",
        "x_train_concat = np.concatenate((x1_train, x2_train, x3_train), axis=1)\n",
        "x_test_concat = np.concatenate((x1_test, x2_test, x3_test), axis=1)\n",
        "\n",
        "parameters = svm_parameter(\"-c 10 -t 0 -q\")\n",
        "x_Step2 = svm_problem(y_train, x_train_concat)\n",
        "\n",
        "model_Step2 = train_model(x_Step2, parameters)\n",
        "\n",
        "m_label_Step2, m_accuracy_Step2, m_val_Step2 = svm_predict(y_test, x_test_concat, model_Step2)\n",
        "\n",
        "print(f\"**********************************Printing the accuracies for Step 2**********************************\")\n",
        "print(f\"Accuracy for X combined: {m_accuracy_Step2[0]: .2f}%.\")\n",
        "\n",
        "print(f\"**********************************Printing the accuracies for Step 0 Part1 **********************************\")\n",
        "print(f\"Accuracy for X1 of Step0 Part1: {m1_accuracy_Step0_Part1[0]: .2f}%.\")\n",
        "print(f\"Accuracy for X2 of Step0 Part1: {m2_accuracy_Step0_Part1[0]: .2f}%.\")\n",
        "print(f\"Accuracy for X3 of Step0 Part1: {m3_accuracy_Step0_Part1[0]: .2f}%.\\n\")"
      ],
      "metadata": {
        "colab": {
          "base_uri": "https://localhost:8080/"
        },
        "id": "FWDO2GHZ891w",
        "outputId": "8e543ac9-00ee-4a11-fc05-aa34df8dc28a"
      },
      "execution_count": 7,
      "outputs": [
        {
          "output_type": "stream",
          "name": "stdout",
          "text": [
            "Training Started.\n",
            "Training Completed.\n",
            "*****************************************************\n",
            "Accuracy = 37.0685% (698/1883) (classification)\n",
            "**********************************Printing the accuracies for Step 2**********************************\n",
            "Accuracy for X combined:  37.07%.\n",
            "**********************************Printing the accuracies for Step 0 Part1 **********************************\n",
            "Accuracy for X1 of Step0 Part1:  10.78%.\n",
            "Accuracy for X2 of Step0 Part1:  16.68%.\n",
            "Accuracy for X3 of Step0 Part1:  8.92%.\n",
            "\n"
          ]
        }
      ]
    }
  ]
}